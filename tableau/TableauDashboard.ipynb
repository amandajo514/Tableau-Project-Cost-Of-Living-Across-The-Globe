{
 "cells": [
  {
   "cell_type": "markdown",
   "id": "3f9dd62f-482c-479e-beb2-4658035539ad",
   "metadata": {},
   "source": [
    "## Tableau Dashboard"
   ]
  },
  {
   "cell_type": "markdown",
   "id": "206fc8f0-9f4a-4b44-9359-f408c60dad96",
   "metadata": {
    "tags": []
   },
   "source": [
    "Link Here: https://public.tableau.com/app/profile/amanda.griffin4897/viz/GlobalCostOfLiving_17086265401210/AvgMonthlyNetSalaryByLocation"
   ]
  }
 ],
 "metadata": {
  "kernelspec": {
   "display_name": "Python 3 (ipykernel)",
   "language": "python",
   "name": "python3"
  },
  "language_info": {
   "codemirror_mode": {
    "name": "ipython",
    "version": 3
   },
   "file_extension": ".py",
   "mimetype": "text/x-python",
   "name": "python",
   "nbconvert_exporter": "python",
   "pygments_lexer": "ipython3",
   "version": "3.11.5"
  }
 },
 "nbformat": 4,
 "nbformat_minor": 5
}
